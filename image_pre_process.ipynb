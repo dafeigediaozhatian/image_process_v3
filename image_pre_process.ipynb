{
 "cells": [
  {
   "cell_type": "markdown",
   "metadata": {},
   "source": [
    "# 图像预处理生成空间拓扑\n",
    "- 选择带标签的图片，并挑选三个集合，5000， 10000， 50000\n",
    "- 将图片copy到对应文件夹保存\n",
    "- 生成pspnet，maskrcnn和saliency三个图\n",
    "- 融合图片，确定物体中心，计算图片信息并保存\n",
    "- 根据图片分布进行概率更新和验证"
   ]
  },
  {
   "cell_type": "markdown",
   "metadata": {},
   "source": [
    "## 1  挑选集合（去掉不带标签的图片列表）"
   ]
  },
  {
   "cell_type": "code",
   "execution_count": 1,
   "metadata": {
    "collapsed": true
   },
   "outputs": [],
   "source": [
    "import os\n",
    "import cv2\n",
    "import random\n",
    "import shutil\n",
    "import pandas as pd"
   ]
  },
  {
   "cell_type": "markdown",
   "metadata": {},
   "source": [
    "### 1.1 设置图片张数，读取图片"
   ]
  },
  {
   "cell_type": "code",
   "execution_count": 2,
   "metadata": {
    "collapsed": true
   },
   "outputs": [],
   "source": [
    "# 三个集合的个数\n",
    "N1 = 5000\n",
    "N2 = 10000\n",
    "N3 = 50000\n",
    "\n",
    "# 读取完整数据集，转化为df格式\n",
    "ava_path = \"/home/flyingbird/Flyingbird/AVA/AVA_dataset/AVA_with_segs_scores_aesthetic.txt\"\n",
    "df = pd.read_csv(ava_path, sep=' ')"
   ]
  },
  {
   "cell_type": "code",
   "execution_count": 3,
   "metadata": {},
   "outputs": [
    {
     "data": {
      "text/html": [
       "<div>\n",
       "<style>\n",
       "    .dataframe thead tr:only-child th {\n",
       "        text-align: right;\n",
       "    }\n",
       "\n",
       "    .dataframe thead th {\n",
       "        text-align: left;\n",
       "    }\n",
       "\n",
       "    .dataframe tbody tr th {\n",
       "        vertical-align: top;\n",
       "    }\n",
       "</style>\n",
       "<table border=\"1\" class=\"dataframe\">\n",
       "  <thead>\n",
       "    <tr style=\"text-align: right;\">\n",
       "      <th></th>\n",
       "      <th>index</th>\n",
       "      <th>image_id</th>\n",
       "      <th>seg_1</th>\n",
       "      <th>seg_2</th>\n",
       "      <th>ave_scores</th>\n",
       "      <th>aesthetic_image</th>\n",
       "    </tr>\n",
       "  </thead>\n",
       "  <tbody>\n",
       "    <tr>\n",
       "      <th>0</th>\n",
       "      <td>1</td>\n",
       "      <td>953619</td>\n",
       "      <td>Abstract</td>\n",
       "      <td>Macro</td>\n",
       "      <td>5.637097</td>\n",
       "      <td>1</td>\n",
       "    </tr>\n",
       "    <tr>\n",
       "      <th>1</th>\n",
       "      <td>2</td>\n",
       "      <td>953958</td>\n",
       "      <td>Abstract</td>\n",
       "      <td>Black_and_White</td>\n",
       "      <td>4.698413</td>\n",
       "      <td>0</td>\n",
       "    </tr>\n",
       "    <tr>\n",
       "      <th>2</th>\n",
       "      <td>3</td>\n",
       "      <td>954184</td>\n",
       "      <td>0</td>\n",
       "      <td>0</td>\n",
       "      <td>5.674603</td>\n",
       "      <td>1</td>\n",
       "    </tr>\n",
       "    <tr>\n",
       "      <th>3</th>\n",
       "      <td>4</td>\n",
       "      <td>954113</td>\n",
       "      <td>Nature</td>\n",
       "      <td>Black_and_White</td>\n",
       "      <td>5.773438</td>\n",
       "      <td>1</td>\n",
       "    </tr>\n",
       "    <tr>\n",
       "      <th>4</th>\n",
       "      <td>5</td>\n",
       "      <td>953980</td>\n",
       "      <td>Macro</td>\n",
       "      <td>Floral</td>\n",
       "      <td>5.209302</td>\n",
       "      <td>1</td>\n",
       "    </tr>\n",
       "  </tbody>\n",
       "</table>\n",
       "</div>"
      ],
      "text/plain": [
       "   index  image_id     seg_1            seg_2  ave_scores  aesthetic_image\n",
       "0      1    953619  Abstract            Macro    5.637097                1\n",
       "1      2    953958  Abstract  Black_and_White    4.698413                0\n",
       "2      3    954184         0                0    5.674603                1\n",
       "3      4    954113    Nature  Black_and_White    5.773438                1\n",
       "4      5    953980     Macro           Floral    5.209302                1"
      ]
     },
     "execution_count": 3,
     "metadata": {},
     "output_type": "execute_result"
    }
   ],
   "source": [
    "df.head(5)"
   ]
  },
  {
   "cell_type": "markdown",
   "metadata": {},
   "source": [
    "### 1.2 筛选带标签的图片"
   ]
  },
  {
   "cell_type": "code",
   "execution_count": 4,
   "metadata": {
    "collapsed": true
   },
   "outputs": [],
   "source": [
    "# 选择不带标签的图片dataframe数据行\n",
    "no_label_df = df[(df['seg_1'] == '0')&(df['seg_2'] == '0')]\n",
    "\n",
    "# 提取出其image_id\n",
    "df_id = no_label_df['image_id']\n",
    "\n",
    "# 选择带标签的图片\n",
    "df_have_label = df[df['image_id'].isin(df_id).apply(lambda x: not x)]"
   ]
  },
  {
   "cell_type": "code",
   "execution_count": 5,
   "metadata": {},
   "outputs": [
    {
     "data": {
      "text/html": [
       "<div>\n",
       "<style>\n",
       "    .dataframe thead tr:only-child th {\n",
       "        text-align: right;\n",
       "    }\n",
       "\n",
       "    .dataframe thead th {\n",
       "        text-align: left;\n",
       "    }\n",
       "\n",
       "    .dataframe tbody tr th {\n",
       "        vertical-align: top;\n",
       "    }\n",
       "</style>\n",
       "<table border=\"1\" class=\"dataframe\">\n",
       "  <thead>\n",
       "    <tr style=\"text-align: right;\">\n",
       "      <th></th>\n",
       "      <th>index</th>\n",
       "      <th>image_id</th>\n",
       "      <th>seg_1</th>\n",
       "      <th>seg_2</th>\n",
       "      <th>ave_scores</th>\n",
       "      <th>aesthetic_image</th>\n",
       "    </tr>\n",
       "  </thead>\n",
       "  <tbody>\n",
       "    <tr>\n",
       "      <th>0</th>\n",
       "      <td>1</td>\n",
       "      <td>953619</td>\n",
       "      <td>Abstract</td>\n",
       "      <td>Macro</td>\n",
       "      <td>5.637097</td>\n",
       "      <td>1</td>\n",
       "    </tr>\n",
       "    <tr>\n",
       "      <th>1</th>\n",
       "      <td>2</td>\n",
       "      <td>953958</td>\n",
       "      <td>Abstract</td>\n",
       "      <td>Black_and_White</td>\n",
       "      <td>4.698413</td>\n",
       "      <td>0</td>\n",
       "    </tr>\n",
       "    <tr>\n",
       "      <th>3</th>\n",
       "      <td>4</td>\n",
       "      <td>954113</td>\n",
       "      <td>Nature</td>\n",
       "      <td>Black_and_White</td>\n",
       "      <td>5.773438</td>\n",
       "      <td>1</td>\n",
       "    </tr>\n",
       "    <tr>\n",
       "      <th>4</th>\n",
       "      <td>5</td>\n",
       "      <td>953980</td>\n",
       "      <td>Macro</td>\n",
       "      <td>Floral</td>\n",
       "      <td>5.209302</td>\n",
       "      <td>1</td>\n",
       "    </tr>\n",
       "    <tr>\n",
       "      <th>5</th>\n",
       "      <td>6</td>\n",
       "      <td>954175</td>\n",
       "      <td>Nature</td>\n",
       "      <td>Insects_etc</td>\n",
       "      <td>5.600000</td>\n",
       "      <td>1</td>\n",
       "    </tr>\n",
       "  </tbody>\n",
       "</table>\n",
       "</div>"
      ],
      "text/plain": [
       "   index  image_id     seg_1            seg_2  ave_scores  aesthetic_image\n",
       "0      1    953619  Abstract            Macro    5.637097                1\n",
       "1      2    953958  Abstract  Black_and_White    4.698413                0\n",
       "3      4    954113    Nature  Black_and_White    5.773438                1\n",
       "4      5    953980     Macro           Floral    5.209302                1\n",
       "5      6    954175    Nature      Insects_etc    5.600000                1"
      ]
     },
     "execution_count": 5,
     "metadata": {},
     "output_type": "execute_result"
    }
   ],
   "source": [
    "df_have_label.head(5)"
   ]
  },
  {
   "cell_type": "markdown",
   "metadata": {},
   "source": [
    "### 1.3 去掉在图片文件中索引不到的数据行"
   ]
  },
  {
   "cell_type": "code",
   "execution_count": 6,
   "metadata": {},
   "outputs": [
    {
     "data": {
      "text/plain": [
       "\"\\nlist_label = os.listdir('images')\\nspecial_image_id = []\\ncount = 0\\n\\nfor i in df_have_label['image_id'].values:\\n    str_image = str(i) + '.jpg'\\n    if str_image not in list_label:\\n        special_image_id.append(str_image)\\n    count += 1\\n    if count % 1000 == 0:\\n        print('%d nums check over'%count)\\n\""
      ]
     },
     "execution_count": 6,
     "metadata": {},
     "output_type": "execute_result"
    }
   ],
   "source": [
    "\"\"\"\n",
    "list_label = os.listdir('images')\n",
    "special_image_id = []\n",
    "count = 0\n",
    "\n",
    "for i in df_have_label['image_id'].values:\n",
    "    str_image = str(i) + '.jpg'\n",
    "    if str_image not in list_label:\n",
    "        special_image_id.append(str_image)\n",
    "    count += 1\n",
    "    if count % 1000 == 0:\n",
    "        print('%d nums check over'%count)\n",
    "\"\"\""
   ]
  },
  {
   "cell_type": "code",
   "execution_count": 7,
   "metadata": {
    "scrolled": true
   },
   "outputs": [
    {
     "name": "stderr",
     "output_type": "stream",
     "text": [
      "/home/flyingbird/anaconda2/envs/tensorflow_gpu/lib/python3.5/site-packages/ipykernel_launcher.py:6: SettingWithCopyWarning: \n",
      "A value is trying to be set on a copy of a slice from a DataFrame\n",
      "\n",
      "See the caveats in the documentation: http://pandas.pydata.org/pandas-docs/stable/indexing.html#indexing-view-versus-copy\n",
      "  \n"
     ]
    }
   ],
   "source": [
    "# 去掉原始数据中索引不到的行数据(953841 397289 953619 953958)\n",
    "#list_error = [953841, 397289, 953619, 953958, 310261, 398594, 848725, 148477, 11066]\n",
    "list_error = [954113, 953980, 954175, 953349, 953897, 444892, 567829, 638163, 104855, 430454, 148477, 953619, \\\n",
    "              953841, 397289, 953619, 953958, 310261, 398594, 848725, 148477, 11066]\n",
    "\n",
    "for i in list_error:\n",
    "    df_have_label.drop(df_have_label[df_have_label['image_id'] == i].index, inplace=True)"
   ]
  },
  {
   "cell_type": "markdown",
   "metadata": {},
   "source": [
    "### 1.4 随机选择对应数量图片，保存为txt文件"
   ]
  },
  {
   "cell_type": "code",
   "execution_count": 8,
   "metadata": {
    "collapsed": true
   },
   "outputs": [],
   "source": [
    "# 随机抽取N张图像\n",
    "def save_image(save_file_name, N):\n",
    "    total_set = df_have_label.sample(n=N, random_state=66)\n",
    "    total_set.to_csv(save_file_name, sep=' ', index=None)"
   ]
  },
  {
   "cell_type": "code",
   "execution_count": 9,
   "metadata": {
    "collapsed": true
   },
   "outputs": [],
   "source": [
    "save_image('./image_label_txt/total_image_5000', N1)\n",
    "save_image('./image_label_txt/total_image_10000', N2)\n",
    "save_image('./image_label_txt/total_image_50000', N3)"
   ]
  },
  {
   "cell_type": "markdown",
   "metadata": {},
   "source": [
    "## 2 将图片copy到对应文件夹保存"
   ]
  },
  {
   "cell_type": "markdown",
   "metadata": {},
   "source": [
    "## 2.1 输入对应txt文件路径、image路径和copy保存路径"
   ]
  },
  {
   "cell_type": "code",
   "execution_count": 10,
   "metadata": {
    "collapsed": true
   },
   "outputs": [],
   "source": [
    "# '/home/flyingbird/Flyingbird/Test/images'\n",
    "main_root = '/home/flyingbird/Flyingbird/image_pre_process'\n",
    "image_file = main_root + '/images'\n",
    "source_path1 = main_root + '/image_label_txt/total_image_5000'\n",
    "source_path2 = main_root + '/image_label_txt/total_image_10000'\n",
    "source_path3 = main_root + '/image_label_txt/total_image_50000'\n",
    "\n",
    "save_path1 = main_root + '/original_image/5000'\n",
    "save_path2 = main_root + '/original_image/10000'\n",
    "save_path3 = main_root + '/original_image/50000'"
   ]
  },
  {
   "cell_type": "markdown",
   "metadata": {},
   "source": [
    "## 2.2 索引列表，copy图片"
   ]
  },
  {
   "cell_type": "code",
   "execution_count": 11,
   "metadata": {
    "collapsed": true
   },
   "outputs": [],
   "source": [
    "def get_images_name(source_path, save_path, N):\n",
    "    \"\"\"\n",
    "    input: 原路径列表，保存路径列表（str)\n",
    "    output: 是否执行成功(yes or no)\n",
    "    \"\"\"\n",
    "    counts = 0\n",
    "    \n",
    "    with open(source_path, 'r') as f:\n",
    "        images_list = []\n",
    "        for i in f.readlines():\n",
    "            images_list.append(i.strip().split(' ')[1] + '.jpg')\n",
    "        images_list = images_list[1:]\n",
    "    \n",
    "    for images_name in images_list:\n",
    "        images_id = os.path.join(image_file, images_name)\n",
    "        #if images_name in os.listdir(image_file):\n",
    "        shutil.copy(images_id, save_path)\n",
    "        counts += 1\n",
    "        if counts % 1000 == 0 and counts != 0:\n",
    "            print('%d images have copied over'%counts)\n",
    "        if counts == N:\n",
    "            print('*'*20)\n",
    "            print('copy all images over')"
   ]
  },
  {
   "cell_type": "code",
   "execution_count": 12,
   "metadata": {
    "collapsed": true
   },
   "outputs": [
    {
     "name": "stdout",
     "output_type": "stream",
     "text": [
      "1000 images have copied over\n",
      "2000 images have copied over\n",
      "3000 images have copied over\n",
      "4000 images have copied over\n",
      "5000 images have copied over\n",
      "********************\n",
      "copy all images over\n"
     ]
    }
   ],
   "source": [
    "get_images_name(source_path1, save_path1, 5000)"
   ]
  },
  {
   "cell_type": "code",
   "execution_count": 25,
   "metadata": {
    "collapsed": true
   },
   "outputs": [
    {
     "name": "stdout",
     "output_type": "stream",
     "text": [
      "1000 images have copied over\n",
      "2000 images have copied over\n",
      "3000 images have copied over\n",
      "4000 images have copied over\n",
      "5000 images have copied over\n",
      "6000 images have copied over\n",
      "7000 images have copied over\n",
      "8000 images have copied over\n",
      "9000 images have copied over\n",
      "10000 images have copied over\n",
      "********************\n",
      "copy all images over\n"
     ]
    }
   ],
   "source": [
    "get_images_name(source_path2, save_path2, 10000)"
   ]
  },
  {
   "cell_type": "code",
   "execution_count": 13,
   "metadata": {
    "collapsed": true
   },
   "outputs": [
    {
     "name": "stdout",
     "output_type": "stream",
     "text": [
      "1000 images have copied over\n",
      "2000 images have copied over\n",
      "3000 images have copied over\n",
      "4000 images have copied over\n",
      "5000 images have copied over\n",
      "6000 images have copied over\n",
      "7000 images have copied over\n",
      "8000 images have copied over\n",
      "9000 images have copied over\n",
      "10000 images have copied over\n",
      "11000 images have copied over\n",
      "12000 images have copied over\n",
      "13000 images have copied over\n",
      "14000 images have copied over\n",
      "15000 images have copied over\n",
      "16000 images have copied over\n",
      "17000 images have copied over\n",
      "18000 images have copied over\n",
      "19000 images have copied over\n",
      "20000 images have copied over\n",
      "21000 images have copied over\n",
      "22000 images have copied over\n",
      "23000 images have copied over\n",
      "24000 images have copied over\n",
      "25000 images have copied over\n",
      "26000 images have copied over\n",
      "27000 images have copied over\n",
      "28000 images have copied over\n",
      "29000 images have copied over\n",
      "30000 images have copied over\n",
      "31000 images have copied over\n",
      "32000 images have copied over\n",
      "33000 images have copied over\n",
      "34000 images have copied over\n",
      "35000 images have copied over\n",
      "36000 images have copied over\n",
      "37000 images have copied over\n",
      "38000 images have copied over\n",
      "39000 images have copied over\n",
      "40000 images have copied over\n",
      "41000 images have copied over\n",
      "42000 images have copied over\n",
      "43000 images have copied over\n",
      "44000 images have copied over\n",
      "45000 images have copied over\n",
      "46000 images have copied over\n",
      "47000 images have copied over\n",
      "48000 images have copied over\n",
      "49000 images have copied over\n",
      "50000 images have copied over\n",
      "********************\n",
      "copy all images over\n"
     ]
    }
   ],
   "source": [
    "get_images_name(source_path3, save_path3, 50000)"
   ]
  },
  {
   "cell_type": "markdown",
   "metadata": {
    "collapsed": true
   },
   "source": [
    "##  3 得到pspnet，maskrcnn和saliency三个图"
   ]
  },
  {
   "cell_type": "code",
   "execution_count": null,
   "metadata": {
    "collapsed": true
   },
   "outputs": [],
   "source": []
  },
  {
   "cell_type": "markdown",
   "metadata": {},
   "source": [
    "## 4 融合图片，确定物体中心，计算图片信息并保存"
   ]
  },
  {
   "cell_type": "code",
   "execution_count": null,
   "metadata": {
    "collapsed": true
   },
   "outputs": [],
   "source": []
  },
  {
   "cell_type": "markdown",
   "metadata": {},
   "source": [
    "## 5 根据图片分布进行概率更新和验证"
   ]
  },
  {
   "cell_type": "code",
   "execution_count": null,
   "metadata": {
    "collapsed": true
   },
   "outputs": [],
   "source": []
  }
 ],
 "metadata": {
  "kernelspec": {
   "display_name": "Python 3",
   "language": "python",
   "name": "python3"
  },
  "language_info": {
   "codemirror_mode": {
    "name": "ipython",
    "version": 3
   },
   "file_extension": ".py",
   "mimetype": "text/x-python",
   "name": "python",
   "nbconvert_exporter": "python",
   "pygments_lexer": "ipython3",
   "version": "3.5.4"
  }
 },
 "nbformat": 4,
 "nbformat_minor": 2
}
